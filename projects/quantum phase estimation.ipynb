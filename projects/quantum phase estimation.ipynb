{
 "cells": [
  {
   "cell_type": "markdown",
   "metadata": {},
   "source": [
    "# Quantum Phase Estimation"
   ]
  },
  {
   "cell_type": "markdown",
   "metadata": {},
   "source": [
    "A $2\\times 2$ unitary matrix $\\begin{bmatrix}e^{0} & 0 \\\\0 & e^{i \\pi}\\end{bmatrix}=\\begin{bmatrix}1 & 0 \\\\0 & -1\\end{bmatrix}$, which has the eigenvectors $|0\\rangle$ and $|1\\rangle$, and phases $\\theta_0=0$ and $\\theta_1=\\frac{1}{2}$. Therefore, the $C-U^{2^k}$ gate is a controlled-$Z$ gate for $k=0$ and the identity for $k\\geq 1$.\n",
    "\n",
    "Starting with $|\\psi\\rangle=|0\\rangle$ in the main register, superposition in the ancilla is given by:"
   ]
  },
  {
   "cell_type": "code",
   "execution_count": 6,
   "metadata": {},
   "outputs": [
    {
     "data": {
      "text/html": [
       "<pre style=\"word-wrap: normal;white-space: pre;background: #fff0;line-height: 1.1;font-family: &quot;Courier New&quot;,Courier,monospace\">        ┌───┐                   ┌───┐   ┌─┐   \n",
       "q_0: |0>┤ H ├────X───────■──────┤ H ├─X─┤M├───\n",
       "        ├───┤    │ ┌───┐ │-pi/2 └───┘ │ └╥┘┌─┐\n",
       "q_1: |0>┤ H ├─■──X─┤ H ├─■────────────X──╫─┤M├\n",
       "        └───┘ │    └───┘                 ║ └╥┘\n",
       "q_2: |0>──────■──────────────────────────╫──╫─\n",
       "                                         ║  ║ \n",
       " c_0: 0 ═════════════════════════════════╩══╬═\n",
       "                                            ║ \n",
       " c_1: 0 ════════════════════════════════════╩═\n",
       "                                              </pre>"
      ],
      "text/plain": [
       "<qiskit.visualization.text.TextDrawing at 0x1a2f79f4d0>"
      ]
     },
     "execution_count": 6,
     "metadata": {},
     "output_type": "execute_result"
    }
   ],
   "source": [
    "import numpy as np\n",
    "from qiskit import QuantumCircuit, ClassicalRegister, QuantumRegister\n",
    "from qiskit import execute\n",
    "from qiskit.tools.visualization import circuit_drawer\n",
    "\n",
    "π = np.pi\n",
    "\n",
    "q = QuantumRegister(3, 'q')\n",
    "c = ClassicalRegister(2, 'c')\n",
    "\n",
    "circuit = QuantumCircuit(q, c)\n",
    "circuit.h(q[0])\n",
    "circuit.h(q[1])\n",
    "\n",
    "#Unitary operation\n",
    "\n",
    "circuit.cz(q[1], q[2])\n",
    "\n",
    "circuit.swap(q[0], q[1])\n",
    "circuit.h(q[1])\n",
    "circuit.cu1(-π / 2, q[0], q[1])\n",
    "circuit.h(q[0])\n",
    "circuit.swap(q[0], q[1])\n",
    "\n",
    "circuit.measure(q[0], c[0])\n",
    "circuit.measure(q[1], c[1])\n",
    "\n",
    "circuit_drawer(circuit)"
   ]
  },
  {
   "cell_type": "markdown",
   "metadata": {},
   "source": [
    "The circuit for eigenvector $|\\psi\\rangle=|1\\rangle$ :"
   ]
  },
  {
   "cell_type": "code",
   "execution_count": 7,
   "metadata": {},
   "outputs": [
    {
     "data": {
      "text/html": [
       "<pre style=\"word-wrap: normal;white-space: pre;background: #fff0;line-height: 1.1;font-family: &quot;Courier New&quot;,Courier,monospace\">        ┌───┐                   ┌───┐   ┌─┐   \n",
       "q_0: |0>┤ H ├────X───────■──────┤ H ├─X─┤M├───\n",
       "        ├───┤    │ ┌───┐ │-pi/2 └───┘ │ └╥┘┌─┐\n",
       "q_1: |0>┤ H ├─■──X─┤ H ├─■────────────X──╫─┤M├\n",
       "        ├───┤ │    └───┘                 ║ └╥┘\n",
       "q_2: |0>┤ X ├─■──────────────────────────╫──╫─\n",
       "        └───┘                            ║  ║ \n",
       " c_0: 0 ═════════════════════════════════╩══╬═\n",
       "                                            ║ \n",
       " c_1: 0 ════════════════════════════════════╩═\n",
       "                                              </pre>"
      ],
      "text/plain": [
       "<qiskit.visualization.text.TextDrawing at 0x111f486d0>"
      ]
     },
     "execution_count": 7,
     "metadata": {},
     "output_type": "execute_result"
    }
   ],
   "source": [
    "circuit = QuantumCircuit(q, c)\n",
    "circuit.h(q[0])\n",
    "circuit.h(q[1])\n",
    "circuit.x(q[2])\n",
    "\n",
    "circuit.cz(q[1], q[2])\n",
    "\n",
    "circuit.swap(q[0], q[1])\n",
    "circuit.h(q[1])\n",
    "circuit.cu1(-π / 2, q[0], q[1])\n",
    "circuit.h(q[0])\n",
    "circuit.swap(q[0], q[1])\n",
    "\n",
    "circuit.measure(q[0], c[0])\n",
    "circuit.measure(q[1], c[1])\n",
    "\n",
    "circuit_drawer(circuit)"
   ]
  },
  {
   "cell_type": "code",
   "execution_count": null,
   "metadata": {},
   "outputs": [],
   "source": []
  }
 ],
 "metadata": {
  "kernelspec": {
   "display_name": "Python 3",
   "language": "python",
   "name": "python3"
  },
  "language_info": {
   "codemirror_mode": {
    "name": "ipython",
    "version": 3
   },
   "file_extension": ".py",
   "mimetype": "text/x-python",
   "name": "python",
   "nbconvert_exporter": "python",
   "pygments_lexer": "ipython3",
   "version": "3.7.4"
  }
 },
 "nbformat": 4,
 "nbformat_minor": 2
}
