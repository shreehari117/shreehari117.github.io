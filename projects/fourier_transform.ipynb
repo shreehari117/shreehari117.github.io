{
 "cells": [
  {
   "cell_type": "markdown",
   "metadata": {},
   "source": [
    "# Quantum Fourier Transform"
   ]
  },
  {
   "cell_type": "markdown",
   "metadata": {},
   "source": [
    "Decomposing the unitary as Hadamard gates and rotations for 1 qubit."
   ]
  },
  {
   "cell_type": "code",
   "execution_count": 1,
   "metadata": {},
   "outputs": [
    {
     "data": {
      "text/html": [
       "<pre style=\"word-wrap: normal;white-space: pre;background: #fff0;line-height: 1.1;font-family: &quot;Courier New&quot;,Courier,monospace\">        ┌───┐\n",
       "q_0: |0>┤ H ├\n",
       "        └───┘\n",
       " c_0: 0 ═════\n",
       "             </pre>"
      ],
      "text/plain": [
       "<qiskit.visualization.text.TextDrawing at 0x1a2c05d990>"
      ]
     },
     "execution_count": 1,
     "metadata": {},
     "output_type": "execute_result"
    }
   ],
   "source": [
    "import numpy as np\n",
    "from qiskit import QuantumCircuit, ClassicalRegister, QuantumRegister\n",
    "from qiskit import execute\n",
    "from qiskit import BasicAer as Aer\n",
    "π = np.pi\n",
    "\n",
    "q = QuantumRegister(1, 'q')\n",
    "c = ClassicalRegister(1, 'c')\n",
    "circuit = QuantumCircuit(q, c)\n",
    "circuit.h(q[0])\n",
    "from qiskit.tools.visualization import circuit_drawer\n",
    "circuit_drawer(circuit)\n",
    "\n",
    "from qiskit.tools.visualization import circuit_drawer\n",
    "circuit_drawer(circuit)"
   ]
  },
  {
   "cell_type": "markdown",
   "metadata": {},
   "source": [
    "Inverse Fourier Transform"
   ]
  },
  {
   "cell_type": "code",
   "execution_count": 2,
   "metadata": {},
   "outputs": [
    {
     "data": {
      "text/html": [
       "<pre style=\"word-wrap: normal;white-space: pre;background: #fff0;line-height: 1.1;font-family: &quot;Courier New&quot;,Courier,monospace\">        ┌───┐\n",
       "q_0: |0>┤ H ├\n",
       "        └───┘\n",
       " c_0: 0 ═════\n",
       "             </pre>"
      ],
      "text/plain": [
       "<qiskit.visualization.text.TextDrawing at 0x1a2cb19a90>"
      ]
     },
     "execution_count": 2,
     "metadata": {},
     "output_type": "execute_result"
    }
   ],
   "source": [
    "q = QuantumRegister(1, 'q')\n",
    "c = ClassicalRegister(1, 'c')\n",
    "i_circuit = QuantumCircuit(q, c)\n",
    "i_circuit.h(q[0])\n",
    "from qiskit.tools.visualization import circuit_drawer\n",
    "circuit_drawer(i_circuit)"
   ]
  },
  {
   "cell_type": "markdown",
   "metadata": {},
   "source": [
    "For 3 qubits."
   ]
  },
  {
   "cell_type": "code",
   "execution_count": 3,
   "metadata": {},
   "outputs": [
    {
     "data": {
      "text/html": [
       "<pre style=\"word-wrap: normal;white-space: pre;background: #fff0;line-height: 1.1;font-family: &quot;Courier New&quot;,Courier,monospace\">        ┌───┐                               \n",
       "q_0: |0>┤ H ├─■───────────■─────────────────\n",
       "        └───┘ │pi/2 ┌───┐ │                 \n",
       "q_1: |0>──────■─────┤ H ├─┼──────■──────────\n",
       "                    └───┘ │pi/4  │pi/2 ┌───┐\n",
       "q_2: |0>──────────────────■──────■─────┤ H ├\n",
       "                                       └───┘\n",
       " c_0: 0 ════════════════════════════════════\n",
       "                                            </pre>"
      ],
      "text/plain": [
       "<qiskit.visualization.text.TextDrawing at 0x10f40ca50>"
      ]
     },
     "execution_count": 3,
     "metadata": {},
     "output_type": "execute_result"
    }
   ],
   "source": [
    "q = QuantumRegister(3, 'q')\n",
    "c = ClassicalRegister(1, 'c')\n",
    "circuit = QuantumCircuit(q, c)\n",
    "circuit.h(q[0])\n",
    "circuit.cu1(π/2, q[1], q[0])\n",
    "circuit.h(q[1])\n",
    "circuit.cu1(π/4, q[2], q[0])\n",
    "circuit.cu1(π/2, q[2], q[1])\n",
    "circuit.h(q[2])\n",
    "\n",
    "from qiskit.tools.visualization import circuit_drawer\n",
    "circuit_drawer(circuit)"
   ]
  },
  {
   "cell_type": "code",
   "execution_count": null,
   "metadata": {},
   "outputs": [],
   "source": []
  }
 ],
 "metadata": {
  "kernelspec": {
   "display_name": "Python 3",
   "language": "python",
   "name": "python3"
  },
  "language_info": {
   "codemirror_mode": {
    "name": "ipython",
    "version": 3
   },
   "file_extension": ".py",
   "mimetype": "text/x-python",
   "name": "python",
   "nbconvert_exporter": "python",
   "pygments_lexer": "ipython3",
   "version": "3.7.4"
  }
 },
 "nbformat": 4,
 "nbformat_minor": 2
}
